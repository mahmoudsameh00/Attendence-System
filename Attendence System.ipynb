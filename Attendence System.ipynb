{
 "cells": [
  {
   "cell_type": "code",
   "execution_count": 2,
   "id": "081edc2f",
   "metadata": {},
   "outputs": [],
   "source": [
    "import cv2\n",
    "import numpy as np\n",
    "import os\n",
    "from datetime import datetime\n",
    "import glob"
   ]
  },
  {
   "cell_type": "code",
   "execution_count": 3,
   "id": "2614557f",
   "metadata": {},
   "outputs": [],
   "source": [
    "import pandas as pd\n",
    "df = pd.DataFrame({'Name': pd.Series(dtype='str'),\n",
    "                   'Date': pd.Series(dtype='str')\n",
    "                 })\n",
    "df[\"Date\"] = pd.to_datetime(df[\"Date\"])\n",
    "df.to_csv('database.csv',index=False)"
   ]
  },
  {
   "cell_type": "code",
   "execution_count": 4,
   "id": "a7d4f68d",
   "metadata": {},
   "outputs": [
    {
     "name": "stdout",
     "output_type": "stream",
     "text": [
      "['Abdelrahman.jpg', 'Ahmed.jpg', 'Atef.jpg', 'Mahmoud.jpg', 'Zahran.jpg']\n"
     ]
    }
   ],
   "source": [
    "path = 'Images'\n",
    "images = []\n",
    "classNames = []\n",
    "myList = os.listdir(path)\n",
    "print(myList)"
   ]
  },
  {
   "cell_type": "code",
   "execution_count": 5,
   "id": "983a9391",
   "metadata": {},
   "outputs": [],
   "source": [
    "face_cascade = cv2.CascadeClassifier(cv2.data.haarcascades + 'haarcascade_frontalface_default.xml')\n",
    "\n",
    "\n",
    "for i ,img in enumerate (myList):\n",
    "    img1 = cv2.imread('Images/'+img)\n",
    "    gray = cv2.cvtColor(img1, cv2.COLOR_RGB2GRAY)\n",
    "    faces = face_cascade.detectMultiScale(gray, 1.1, 10)\n",
    "    for (x,y,w,h) in faces:\n",
    "        img1 = cv2.rectangle(img1,(x,y),(x+w,y+h),(255,0,0),2)\n",
    "        crop = img1[y:y+h, x:x+w]\n",
    "        resized = cv2.resize(crop, (100,100), interpolation = cv2.INTER_AREA)\n",
    "    cv2.imwrite(r\"C:\\Users\\Turbo\\Desktop\\CV\\rectangle_images\\{}\".format(img),resized)\n",
    "\n"
   ]
  },
  {
   "cell_type": "code",
   "execution_count": 6,
   "id": "6d026e67",
   "metadata": {},
   "outputs": [
    {
     "name": "stdout",
     "output_type": "stream",
     "text": [
      "['Abdelrahman.jpg', 'Ahmed.jpg', 'Atef.jpg', 'Mahmoud.jpg', 'Zahran.jpg']\n"
     ]
    }
   ],
   "source": [
    "path = 'rectangle_images'\n",
    "images = []\n",
    "classNames = []\n",
    "myList1 = os.listdir(path)\n",
    "print(myList1)"
   ]
  },
  {
   "cell_type": "code",
   "execution_count": 18,
   "id": "c4a22213",
   "metadata": {
    "scrolled": true
   },
   "outputs": [
    {
     "name": "stdout",
     "output_type": "stream",
     "text": [
      "[('Abdelrahman', 119948832.0), ('Ahmed', 124651088.0), ('Atef', 79134616.0), ('Mahmoud', 153243920.0), ('Zahran', 103079296.0)]\n",
      "2023-01-08 23:35:00\n"
     ]
    },
    {
     "name": "stderr",
     "output_type": "stream",
     "text": [
      "C:\\Users\\Turbo\\AppData\\Local\\Temp\\ipykernel_14540\\2168247664.py:31: FutureWarning: The frame.append method is deprecated and will be removed from pandas in a future version. Use pandas.concat instead.\n",
      "  df=df.append({'Name':y[0],'Date':time},ignore_index=True)\n"
     ]
    }
   ],
   "source": [
    "lstresult=[]\n",
    "video_capture = cv2.VideoCapture(0)\n",
    "\n",
    "while True:\n",
    "    # Grab a single frame of video\n",
    "    ret, frame = video_capture.read()\n",
    "\n",
    "    # Convert the image to grayscale for faster processing\n",
    "    gray = cv2.cvtColor(frame, cv2.COLOR_BGR2GRAY)\n",
    "\n",
    "    # Loop through the templates\n",
    "    for templatename in myList1:\n",
    "        template=cv2.imread('rectangle_images/'+templatename)\n",
    "        template = cv2.cvtColor(template, cv2.COLOR_BGR2GRAY)\n",
    "        \n",
    "        # Perform template matching using the cv2.TM_CCOEFF_NORMED method\n",
    "        result = cv2.matchTemplate(gray, template, cv2.TM_SQDIFF)\n",
    "\n",
    "        # Get the minimum and maximum values from the result\n",
    "        min_val, max_val, min_loc, max_loc = cv2.minMaxLoc(result)\n",
    "        lstresult.append((templatename.split('.')[0],max_val))\n",
    "        time=datetime.now().replace(second=0,microsecond=0)\n",
    "    print(lstresult)\n",
    "    print(time)\n",
    "    break\n",
    "video_capture.release()\n",
    "cv2.destroyAllWindows()\n",
    "# Add to CSV file\n",
    "for x,y in enumerate(lstresult):   \n",
    "    if lstresult[x][1]==max(lstresult,key=lambda item:item[1])[1]:\n",
    "        df=df.append({'Name':y[0],'Date':time},ignore_index=True)\n",
    "    else:\n",
    "        continue\n",
    "       \n",
    "        # If the maximum value is greater than 0.8, consider it a match\n",
    "        "
   ]
  },
  {
   "cell_type": "code",
   "execution_count": 19,
   "id": "60ccf35c",
   "metadata": {},
   "outputs": [
    {
     "data": {
      "text/html": [
       "<div>\n",
       "<style scoped>\n",
       "    .dataframe tbody tr th:only-of-type {\n",
       "        vertical-align: middle;\n",
       "    }\n",
       "\n",
       "    .dataframe tbody tr th {\n",
       "        vertical-align: top;\n",
       "    }\n",
       "\n",
       "    .dataframe thead th {\n",
       "        text-align: right;\n",
       "    }\n",
       "</style>\n",
       "<table border=\"1\" class=\"dataframe\">\n",
       "  <thead>\n",
       "    <tr style=\"text-align: right;\">\n",
       "      <th></th>\n",
       "      <th>Name</th>\n",
       "      <th>Date</th>\n",
       "    </tr>\n",
       "  </thead>\n",
       "  <tbody>\n",
       "    <tr>\n",
       "      <th>0</th>\n",
       "      <td>Zahran</td>\n",
       "      <td>2023-01-08 23:29:00</td>\n",
       "    </tr>\n",
       "    <tr>\n",
       "      <th>1</th>\n",
       "      <td>Mahmoud</td>\n",
       "      <td>2023-01-08 23:35:00</td>\n",
       "    </tr>\n",
       "  </tbody>\n",
       "</table>\n",
       "</div>"
      ],
      "text/plain": [
       "      Name                Date\n",
       "0   Zahran 2023-01-08 23:29:00\n",
       "1  Mahmoud 2023-01-08 23:35:00"
      ]
     },
     "execution_count": 19,
     "metadata": {},
     "output_type": "execute_result"
    }
   ],
   "source": [
    "df"
   ]
  },
  {
   "cell_type": "code",
   "execution_count": 17,
   "id": "09f1cb26",
   "metadata": {},
   "outputs": [
    {
     "data": {
      "text/plain": [
       "141408976.0"
      ]
     },
     "execution_count": 17,
     "metadata": {},
     "output_type": "execute_result"
    }
   ],
   "source": [
    "max(lstresult,key=lambda item:item[1])[1]"
   ]
  },
  {
   "cell_type": "code",
   "execution_count": null,
   "id": "49424654",
   "metadata": {},
   "outputs": [],
   "source": []
  }
 ],
 "metadata": {
  "kernelspec": {
   "display_name": "Python 3 (ipykernel)",
   "language": "python",
   "name": "python3"
  },
  "language_info": {
   "codemirror_mode": {
    "name": "ipython",
    "version": 3
   },
   "file_extension": ".py",
   "mimetype": "text/x-python",
   "name": "python",
   "nbconvert_exporter": "python",
   "pygments_lexer": "ipython3",
   "version": "3.9.12"
  }
 },
 "nbformat": 4,
 "nbformat_minor": 5
}
