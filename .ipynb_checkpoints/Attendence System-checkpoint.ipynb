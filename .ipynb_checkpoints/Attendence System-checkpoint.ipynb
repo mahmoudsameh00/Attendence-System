{
 "cells": [
  {
   "cell_type": "code",
   "execution_count": 49,
   "id": "081edc2f",
   "metadata": {},
   "outputs": [],
   "source": [
    "import cv2\n",
    "import numpy as np\n",
    "import os\n",
    "from datetime import datetime\n",
    "import glob"
   ]
  },
  {
   "cell_type": "code",
   "execution_count": 50,
   "id": "a7d4f68d",
   "metadata": {},
   "outputs": [
    {
     "name": "stdout",
     "output_type": "stream",
     "text": [
      "['Abdelrahman.jpg', 'Ahmed.jpg', 'Atef.jpg', 'Mahmoud.jpg']\n"
     ]
    }
   ],
   "source": [
    "path = 'Images'\n",
    "images = []\n",
    "classNames = []\n",
    "myList = os.listdir(path)\n",
    "print(myList)"
   ]
  },
  {
   "cell_type": "code",
   "execution_count": 51,
   "id": "102bdd9d",
   "metadata": {},
   "outputs": [
    {
     "name": "stdout",
     "output_type": "stream",
     "text": [
      "['Abdelrahman', 'Ahmed', 'Atef', 'Mahmoud']\n"
     ]
    }
   ],
   "source": [
    "for cl in myList:\n",
    "    curImg = cv2.imread(f'{path}/{cl}')\n",
    "    images.append(curImg)\n",
    "    classNames.append(os.path.splitext(cl)[0])\n",
    "print(classNames)"
   ]
  },
  {
   "cell_type": "code",
   "execution_count": 52,
   "id": "983a9391",
   "metadata": {},
   "outputs": [],
   "source": [
    "face_cascade = cv2.CascadeClassifier(cv2.data.haarcascades + 'haarcascade_frontalface_default.xml')\n",
    "\n",
    "\n",
    "for i ,img in enumerate (myList):\n",
    "    img1 = cv2.imread('Images/'+img)\n",
    "    gray = cv2.cvtColor(img1, cv2.COLOR_RGB2GRAY)\n",
    "    faces = face_cascade.detectMultiScale(gray, 1.1, 10)\n",
    "    for (x,y,w,h) in faces:\n",
    "        img1 = cv2.rectangle(img1,(x,y),(x+w,y+h),(255,0,0),2)\n",
    "        crop = img1[y:y+h, x:x+w]\n",
    "        resized = cv2.resize(crop, (100,100), interpolation = cv2.INTER_AREA)\n",
    "    cv2.imwrite(r\"C:\\Users\\Turbo\\Desktop\\CV\\rectangle_images\\{}\".format(img),resized)\n",
    "cv2.imshow('img',img1)\n",
    "cv2.waitKey(0)\n",
    "cv2.destroyAllWindows()"
   ]
  },
  {
   "cell_type": "code",
   "execution_count": 53,
   "id": "6d026e67",
   "metadata": {},
   "outputs": [
    {
     "name": "stdout",
     "output_type": "stream",
     "text": [
      "['Abdelrahman.jpg', 'Ahmed.jpg', 'Atef.jpg', 'Mahmoud.jpg']\n"
     ]
    }
   ],
   "source": [
    "path = 'rectangle_images'\n",
    "images = []\n",
    "classNames = []\n",
    "myList1 = os.listdir(path)\n",
    "print(myList1)"
   ]
  },
  {
   "cell_type": "code",
   "execution_count": 67,
   "id": "c4a22213",
   "metadata": {
    "scrolled": true
   },
   "outputs": [
    {
     "name": "stdout",
     "output_type": "stream",
     "text": [
      "[(110099536.0, 'Abdelrahman'), (115131728.0, 'Ahmed'), (75914792.0, 'Atef'), (143121056.0, 'Mahmoud')]\n"
     ]
    }
   ],
   "source": [
    "lstresult=[]\n",
    "video_capture = cv2.VideoCapture(0)\n",
    "\n",
    "while True:\n",
    "    # Grab a single frame of video\n",
    "    ret, frame = video_capture.read()\n",
    "\n",
    "    # Convert the image to grayscale for faster processing\n",
    "    gray = cv2.cvtColor(frame, cv2.COLOR_BGR2GRAY)\n",
    "\n",
    "    # Loop through the templates\n",
    "    for templatename in myList1:\n",
    "        template=cv2.imread('rectangle_images/'+templatename)\n",
    "        template = cv2.cvtColor(template, cv2.COLOR_BGR2GRAY)\n",
    "        \n",
    "        # Perform template matching using the cv2.TM_CCOEFF_NORMED method\n",
    "        result = cv2.matchTemplate(gray, template, cv2.TM_SQDIFF)\n",
    "\n",
    "        # Get the minimum and maximum values from the result\n",
    "        min_val, max_val, min_loc, max_loc = cv2.minMaxLoc(result)\n",
    "        lstresult.append((max_val,templatename.split('.')[0]))\n",
    "        \n",
    "    print(lstresult)\n",
    "    break\n",
    "video_capture.release()\n",
    "cv2.destroyAllWindows()\n",
    "       \n",
    "        # If the maximum value is greater than 0.8, consider it a match\n",
    "        "
   ]
  },
  {
   "cell_type": "code",
   "execution_count": null,
   "id": "201ce12c",
   "metadata": {},
   "outputs": [],
   "source": [
    "import pandas as pd\n",
    "df = pd.DataFrame({'Name': pd.Series(dtype='str'),\n",
    "                   'Date': pd.Series(dtype='str')\n",
    "                 })\n",
    "df[\"Date\"] = pd.to_datetime(df[\"Date\"])\n",
    "df.to_csv('database.csv',index=False)\n",
    "df"
   ]
  },
  {
   "cell_type": "code",
   "execution_count": 68,
   "id": "68332729",
   "metadata": {},
   "outputs": [
    {
     "name": "stdout",
     "output_type": "stream",
     "text": [
      "(143121056.0, 'Mahmoud')\n"
     ]
    }
   ],
   "source": [
    "for i in lstresult:\n",
    "    if i > 143121056.0:\n",
    "        df=df.append({'Name':b,'Date':c})\n",
    "    else:\n",
    "        continue"
   ]
  },
  {
   "cell_type": "code",
   "execution_count": null,
   "id": "4e8328ef",
   "metadata": {},
   "outputs": [],
   "source": []
  }
 ],
 "metadata": {
  "kernelspec": {
   "display_name": "Python 3 (ipykernel)",
   "language": "python",
   "name": "python3"
  },
  "language_info": {
   "codemirror_mode": {
    "name": "ipython",
    "version": 3
   },
   "file_extension": ".py",
   "mimetype": "text/x-python",
   "name": "python",
   "nbconvert_exporter": "python",
   "pygments_lexer": "ipython3",
   "version": "3.9.12"
  }
 },
 "nbformat": 4,
 "nbformat_minor": 5
}
